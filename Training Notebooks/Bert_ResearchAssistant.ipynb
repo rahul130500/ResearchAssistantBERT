{
  "nbformat": 4,
  "nbformat_minor": 0,
  "metadata": {
    "colab": {
      "name": "Bert_RA1.ipynb",
      "provenance": [],
      "collapsed_sections": [],
      "toc_visible": true
    },
    "kernelspec": {
      "name": "python3",
      "display_name": "Python 3"
    },
    "accelerator": "GPU"
  },
  "cells": [
    {
      "cell_type": "code",
      "metadata": {
        "id": "jY7mmcj9pRcW",
        "colab": {
          "base_uri": "https://localhost:8080/"
        },
        "outputId": "efd99f57-f3e5-482e-d641-f42d2bba7d06"
      },
      "source": [
        "# verify GPU availability\n",
        "import tensorflow as tf\n",
        "\n",
        "device_name = tf.test.gpu_device_name()\n",
        "if device_name != '/device:GPU:0':\n",
        "  raise SystemError('GPU device not found')\n",
        "print('Found GPU at: {}'.format(device_name))"
      ],
      "execution_count": null,
      "outputs": [
        {
          "output_type": "stream",
          "text": [
            "Found GPU at: /device:GPU:0\n"
          ],
          "name": "stdout"
        }
      ]
    },
    {
      "cell_type": "markdown",
      "metadata": {
        "id": "zyg4gJAVExvK"
      },
      "source": [
        "## 1. Overview\n",
        "\n",
        "Bidirectional Embedding Representations from Transformers (BERT), is a method of pre-training language representations which obtains state-of-the-art results on a wide array of Natural Language Processing (NLP) tasks. \n",
        "\n",
        "The original paper can be found here: https://arxiv.org/abs/1810.04805.\n",
        "\n",
        "NVIDIA's BERT 19.10 is an optimized version of Google's official implementation, leveraging mixed precision arithmetic and tensor cores on V100 GPUS for faster training times while maintaining target accuracy."
      ]
    },
    {
      "cell_type": "code",
      "metadata": {
        "id": "3GXkks0-AsEz"
      },
      "source": [
        "#from google.colab import drive\n",
        "#drive.mount('/content/drive')"
      ],
      "execution_count": null,
      "outputs": []
    },
    {
      "cell_type": "markdown",
      "metadata": {
        "id": "0OCwFQwFFADX"
      },
      "source": [
        "## 2. Requirements\n",
        "\n",
        "### 2.a GPU\n",
        "\n",
        "Before running this notebook, please set the Colab runtime environment to GPU via the menu *Runtime => Change runtime type => GPU*.\n",
        "\n",
        "This demo will work on any NVIDIA GPU with CUDA cores, though for improved FP16 inference, a Volta, Turing or newer generation GPU with Tensor cores is desired.  On Google Colab, this normally means a T4 GPU. If you are assigned an older K80 GPU, another trial at another time might give you a T4 GPU."
      ]
    },
    {
      "cell_type": "markdown",
      "metadata": {
        "id": "AUWmEE7lAJxo"
      },
      "source": [
        "Guys, we will use Hugging face transformers in pytorch  you can see more [here](https://huggingface.co/transformers/)\n",
        "# Hugging Face Transformers\n",
        "The [Hugging Face Transformers](https://huggingface.co/transformers/#) package provides state-of-the-art general-purpose architectures for natural language understanding and natural language generation. They host dozens of pre-trained models operating in over 100 languages that you can use right out of the box. All of these models come with deep interoperability between PyTorch and Tensorflow 2.0, which means you can move a model from TF2.0 to PyTorch and back again with just a line or two of code!\n",
        "\n",
        "\n",
        "If you're new to Hugging Face, I strongly recommend working through the HF [Quickstart guide](https://huggingface.co/transformers/quickstart.html) as well as their excellent [Transformer Notebooks](https://huggingface.co/transformers/notebooks.html) (I did!), as I won't cover that material in this notebook."
      ]
    },
    {
      "cell_type": "code",
      "metadata": {
        "id": "Yxu0iAvYsHTK",
        "colab": {
          "base_uri": "https://localhost:8080/"
        },
        "outputId": "80e59edf-dc37-4478-9418-40fd637cf380"
      },
      "source": [
        "# install huggingface libraries\n",
        "!pip install pytorch-pretrained-bert pytorch-nlp pytorch_transformers"
      ],
      "execution_count": null,
      "outputs": [
        {
          "output_type": "stream",
          "text": [
            "Requirement already satisfied: pytorch-pretrained-bert in /usr/local/lib/python3.6/dist-packages (0.6.2)\n",
            "Requirement already satisfied: pytorch-nlp in /usr/local/lib/python3.6/dist-packages (0.5.0)\n",
            "Requirement already satisfied: pytorch_transformers in /usr/local/lib/python3.6/dist-packages (1.2.0)\n",
            "Requirement already satisfied: boto3 in /usr/local/lib/python3.6/dist-packages (from pytorch-pretrained-bert) (1.16.56)\n",
            "Requirement already satisfied: regex in /usr/local/lib/python3.6/dist-packages (from pytorch-pretrained-bert) (2019.12.20)\n",
            "Requirement already satisfied: tqdm in /usr/local/lib/python3.6/dist-packages (from pytorch-pretrained-bert) (4.41.1)\n",
            "Requirement already satisfied: requests in /usr/local/lib/python3.6/dist-packages (from pytorch-pretrained-bert) (2.23.0)\n",
            "Requirement already satisfied: torch>=0.4.1 in /usr/local/lib/python3.6/dist-packages (from pytorch-pretrained-bert) (1.7.0+cu101)\n",
            "Requirement already satisfied: numpy in /usr/local/lib/python3.6/dist-packages (from pytorch-pretrained-bert) (1.19.5)\n",
            "Requirement already satisfied: sentencepiece in /usr/local/lib/python3.6/dist-packages (from pytorch_transformers) (0.1.95)\n",
            "Requirement already satisfied: sacremoses in /usr/local/lib/python3.6/dist-packages (from pytorch_transformers) (0.0.43)\n",
            "Requirement already satisfied: jmespath<1.0.0,>=0.7.1 in /usr/local/lib/python3.6/dist-packages (from boto3->pytorch-pretrained-bert) (0.10.0)\n",
            "Requirement already satisfied: s3transfer<0.4.0,>=0.3.0 in /usr/local/lib/python3.6/dist-packages (from boto3->pytorch-pretrained-bert) (0.3.4)\n",
            "Requirement already satisfied: botocore<1.20.0,>=1.19.56 in /usr/local/lib/python3.6/dist-packages (from boto3->pytorch-pretrained-bert) (1.19.56)\n",
            "Requirement already satisfied: certifi>=2017.4.17 in /usr/local/lib/python3.6/dist-packages (from requests->pytorch-pretrained-bert) (2020.12.5)\n",
            "Requirement already satisfied: urllib3!=1.25.0,!=1.25.1,<1.26,>=1.21.1 in /usr/local/lib/python3.6/dist-packages (from requests->pytorch-pretrained-bert) (1.24.3)\n",
            "Requirement already satisfied: chardet<4,>=3.0.2 in /usr/local/lib/python3.6/dist-packages (from requests->pytorch-pretrained-bert) (3.0.4)\n",
            "Requirement already satisfied: idna<3,>=2.5 in /usr/local/lib/python3.6/dist-packages (from requests->pytorch-pretrained-bert) (2.10)\n",
            "Requirement already satisfied: future in /usr/local/lib/python3.6/dist-packages (from torch>=0.4.1->pytorch-pretrained-bert) (0.16.0)\n",
            "Requirement already satisfied: dataclasses in /usr/local/lib/python3.6/dist-packages (from torch>=0.4.1->pytorch-pretrained-bert) (0.8)\n",
            "Requirement already satisfied: typing-extensions in /usr/local/lib/python3.6/dist-packages (from torch>=0.4.1->pytorch-pretrained-bert) (3.7.4.3)\n",
            "Requirement already satisfied: six in /usr/local/lib/python3.6/dist-packages (from sacremoses->pytorch_transformers) (1.15.0)\n",
            "Requirement already satisfied: click in /usr/local/lib/python3.6/dist-packages (from sacremoses->pytorch_transformers) (7.1.2)\n",
            "Requirement already satisfied: joblib in /usr/local/lib/python3.6/dist-packages (from sacremoses->pytorch_transformers) (1.0.0)\n",
            "Requirement already satisfied: python-dateutil<3.0.0,>=2.1 in /usr/local/lib/python3.6/dist-packages (from botocore<1.20.0,>=1.19.56->boto3->pytorch-pretrained-bert) (2.8.1)\n"
          ],
          "name": "stdout"
        }
      ]
    },
    {
      "cell_type": "code",
      "metadata": {
        "id": "pqd8Nwwnuh3u"
      },
      "source": [
        "import torch\n",
        "from torch.utils.data import TensorDataset, DataLoader, RandomSampler, SequentialSampler\n",
        "from keras.preprocessing.sequence import pad_sequences\n",
        "from sklearn.model_selection import train_test_split\n",
        "from pytorch_transformers import BertTokenizer, BertConfig, BertModel\n",
        "from pytorch_transformers import AdamW, BertForQuestionAnswering\n",
        "from tqdm import tqdm, trange\n",
        "import pandas as pd\n",
        "import io\n",
        "import os\n",
        "import numpy as np\n",
        "import matplotlib.pyplot as plt\n",
        "%matplotlib inline"
      ],
      "execution_count": null,
      "outputs": []
    },
    {
      "cell_type": "code",
      "metadata": {
        "id": "x9ANT1FssMH4",
        "colab": {
          "base_uri": "https://localhost:8080/",
          "height": 35
        },
        "outputId": "77d969ea-e8fe-4c69-c134-0c852e3e0cae"
      },
      "source": [
        "# BERT imports\n",
        "import torch\n",
        "from torch.utils.data import TensorDataset, DataLoader, RandomSampler, SequentialSampler\n",
        "from keras.preprocessing.sequence import pad_sequences\n",
        "from sklearn.model_selection import train_test_split\n",
        "from pytorch_pretrained_bert import BertTokenizer, BertConfig\n",
        "from pytorch_pretrained_bert import BertAdam, BertForSequenceClassification\n",
        "from tqdm import tqdm, trange\n",
        "import pandas as pd\n",
        "import io\n",
        "import numpy as np\n",
        "import matplotlib.pyplot as plt\n",
        "% matplotlib inline\n",
        "\n",
        "# specify GPU device\n",
        "device = torch.device(\"cuda\" if torch.cuda.is_available() else \"cpu\")\n",
        "n_gpu = torch.cuda.device_count()\n",
        "torch.cuda.get_device_name(0)"
      ],
      "execution_count": null,
      "outputs": [
        {
          "output_type": "execute_result",
          "data": {
            "application/vnd.google.colaboratory.intrinsic+json": {
              "type": "string"
            },
            "text/plain": [
              "'Tesla P100-PCIE-16GB'"
            ]
          },
          "metadata": {
            "tags": []
          },
          "execution_count": 5
        }
      ]
    },
    {
      "cell_type": "code",
      "metadata": {
        "id": "iU_9EqSXEFEj",
        "colab": {
          "base_uri": "https://localhost:8080/"
        },
        "outputId": "9b0ee260-820d-46a5-bf95-56d65b0781cd"
      },
      "source": [
        "%cd /content/drive/MyDrive/Bert-RA/data1"
      ],
      "execution_count": null,
      "outputs": [
        {
          "output_type": "stream",
          "text": [
            "/content/drive/MyDrive/Bert-RA/data1\n"
          ],
          "name": "stdout"
        }
      ]
    },
    {
      "cell_type": "markdown",
      "metadata": {
        "id": "c9Z0DI2ZFLTz"
      },
      "source": [
        "## 3. BERT Inference: Question Answering\n",
        "\n",
        "We can run inference on a fine-tuned BERT model for tasks like Question Answering.\n",
        "\n",
        "Here we use a BERT model fine-tuned on a [SQuaD 2.0 Dataset](https://rajpurkar.github.io/SQuAD-explorer/) which contains 100,000+ question-answer pairs on 500+ articles combined with over 50,000 new, unanswerable questions.\n",
        "One of the most canonical datasets for QA is the Stanford Question Answering Dataset, or SQuAD, which comes in two flavors: SQuAD 1.1 and SQuAD 2.0. These reading comprehension datasets consist of questions posed on a set of Wikipedia articles, where the answer to every question is a segment (or span) of the corresponding passage. In SQuAD 1.1, all questions have an answer in the corresponding passage. SQuAD 2.0 steps up the difficulty by including questions that cannot be answered by the provided passage. \n",
        "Copy files and upload in drive\n",
        "https://drive.google.com/drive/folders/1B5BrkBx1K15e5KxUl2XqCYXoRQ5Kib3H?usp=sharing"
      ]
    },
    {
      "cell_type": "code",
      "metadata": {
        "id": "ZcCOg8XsEQ0P",
        "colab": {
          "base_uri": "https://localhost:8080/"
        },
        "outputId": "ac006637-1da7-487a-faa7-93bbd90c7f03"
      },
      "source": [
        "%ls"
      ],
      "execution_count": null,
      "outputs": [
        {
          "output_type": "stream",
          "text": [
            "cache_validation      nbest_predictions.json  train-v2.0.json\n",
            "cache_validation.zip  null_odds.json          utils_squad_evaluate.py\n",
            "\u001b[0m\u001b[01;34mcheckpoint-50\u001b[0m/        predictions.json        utils_squad.py\n",
            "\u001b[01;34mcheckpoint-final\u001b[0m/     \u001b[01;34m__pycache__\u001b[0m/\n",
            "dev-v2.0.json         results.json\n"
          ],
          "name": "stdout"
        }
      ]
    },
    {
      "cell_type": "code",
      "metadata": {
        "id": "7yxjlwseeykl"
      },
      "source": [
        "from utils_squad import (read_squad_examples, convert_examples_to_features,\n",
        "                         RawResult, write_predictions,\n",
        "                         RawResultExtended, write_predictions_extended)\n",
        "from utils_squad_evaluate import EVAL_OPTS, main as evaluate_on_squad, plot_pr_curve"
      ],
      "execution_count": null,
      "outputs": []
    },
    {
      "cell_type": "code",
      "metadata": {
        "id": "lGVWI85yfaPs",
        "colab": {
          "base_uri": "https://localhost:8080/"
        },
        "outputId": "2f4d969c-6a94-4558-9f7d-2ac05f8c7462"
      },
      "source": [
        "device = torch.device(\"cuda\" if torch.cuda.is_available() else \"cpu\")\n",
        "device"
      ],
      "execution_count": null,
      "outputs": [
        {
          "output_type": "execute_result",
          "data": {
            "text/plain": [
              "device(type='cuda')"
            ]
          },
          "metadata": {
            "tags": []
          },
          "execution_count": 9
        }
      ]
    },
    {
      "cell_type": "code",
      "metadata": {
        "id": "zHgpndcloLFp"
      },
      "source": [
        "input_file = 'train-v2.0.json'\n",
        "examples = read_squad_examples(input_file=input_file,\n",
        "                                is_training=True,\n",
        "                                version_2_with_negative=True)"
      ],
      "execution_count": null,
      "outputs": []
    },
    {
      "cell_type": "code",
      "metadata": {
        "id": "yVeg2Gw2mJYc",
        "colab": {
          "base_uri": "https://localhost:8080/"
        },
        "outputId": "7a1a3247-6acf-4f3c-85e3-799c9db30783"
      },
      "source": [
        "examples[:5]"
      ],
      "execution_count": null,
      "outputs": [
        {
          "output_type": "execute_result",
          "data": {
            "text/plain": [
              "[qas_id: 56be85543aeaaa14008c9063, question_text: When did Beyonce start becoming popular?, doc_tokens: [Beyoncé Giselle Knowles-Carter (/biːˈjɒnseɪ/ bee-YON-say) (born September 4, 1981) is an American singer, songwriter, record producer and actress. Born and raised in Houston, Texas, she performed in various singing and dancing competitions as a child, and rose to fame in the late 1990s as lead singer of R&B girl-group Destiny's Child. Managed by her father, Mathew Knowles, the group became one of the world's best-selling girl groups of all time. Their hiatus saw the release of Beyoncé's debut album, Dangerously in Love (2003), which established her as a solo artist worldwide, earned five Grammy Awards and featured the Billboard Hot 100 number-one singles \"Crazy in Love\" and \"Baby Boy\".], start_position: 39, end_position: 42,\n",
              " qas_id: 56be85543aeaaa14008c9065, question_text: What areas did Beyonce compete in when she was growing up?, doc_tokens: [Beyoncé Giselle Knowles-Carter (/biːˈjɒnseɪ/ bee-YON-say) (born September 4, 1981) is an American singer, songwriter, record producer and actress. Born and raised in Houston, Texas, she performed in various singing and dancing competitions as a child, and rose to fame in the late 1990s as lead singer of R&B girl-group Destiny's Child. Managed by her father, Mathew Knowles, the group became one of the world's best-selling girl groups of all time. Their hiatus saw the release of Beyoncé's debut album, Dangerously in Love (2003), which established her as a solo artist worldwide, earned five Grammy Awards and featured the Billboard Hot 100 number-one singles \"Crazy in Love\" and \"Baby Boy\".], start_position: 28, end_position: 30,\n",
              " qas_id: 56be85543aeaaa14008c9066, question_text: When did Beyonce leave Destiny's Child and become a solo singer?, doc_tokens: [Beyoncé Giselle Knowles-Carter (/biːˈjɒnseɪ/ bee-YON-say) (born September 4, 1981) is an American singer, songwriter, record producer and actress. Born and raised in Houston, Texas, she performed in various singing and dancing competitions as a child, and rose to fame in the late 1990s as lead singer of R&B girl-group Destiny's Child. Managed by her father, Mathew Knowles, the group became one of the world's best-selling girl groups of all time. Their hiatus saw the release of Beyoncé's debut album, Dangerously in Love (2003), which established her as a solo artist worldwide, earned five Grammy Awards and featured the Billboard Hot 100 number-one singles \"Crazy in Love\" and \"Baby Boy\".], start_position: 82, end_position: 82,\n",
              " qas_id: 56bf6b0f3aeaaa14008c9601, question_text: In what city and state did Beyonce  grow up? , doc_tokens: [Beyoncé Giselle Knowles-Carter (/biːˈjɒnseɪ/ bee-YON-say) (born September 4, 1981) is an American singer, songwriter, record producer and actress. Born and raised in Houston, Texas, she performed in various singing and dancing competitions as a child, and rose to fame in the late 1990s as lead singer of R&B girl-group Destiny's Child. Managed by her father, Mathew Knowles, the group became one of the world's best-selling girl groups of all time. Their hiatus saw the release of Beyoncé's debut album, Dangerously in Love (2003), which established her as a solo artist worldwide, earned five Grammy Awards and featured the Billboard Hot 100 number-one singles \"Crazy in Love\" and \"Baby Boy\".], start_position: 22, end_position: 23,\n",
              " qas_id: 56bf6b0f3aeaaa14008c9602, question_text: In which decade did Beyonce become famous?, doc_tokens: [Beyoncé Giselle Knowles-Carter (/biːˈjɒnseɪ/ bee-YON-say) (born September 4, 1981) is an American singer, songwriter, record producer and actress. Born and raised in Houston, Texas, she performed in various singing and dancing competitions as a child, and rose to fame in the late 1990s as lead singer of R&B girl-group Destiny's Child. Managed by her father, Mathew Knowles, the group became one of the world's best-selling girl groups of all time. Their hiatus saw the release of Beyoncé's debut album, Dangerously in Love (2003), which established her as a solo artist worldwide, earned five Grammy Awards and featured the Billboard Hot 100 number-one singles \"Crazy in Love\" and \"Baby Boy\".], start_position: 41, end_position: 42]"
            ]
          },
          "metadata": {
            "tags": []
          },
          "execution_count": 11
        }
      ]
    },
    {
      "cell_type": "code",
      "metadata": {
        "id": "TWRV-Q10qrIM",
        "colab": {
          "base_uri": "https://localhost:8080/",
          "height": 279
        },
        "outputId": "eb158e0c-449d-4131-bd71-9bab25c1628d"
      },
      "source": [
        "train_data = pd.DataFrame.from_records([vars(example) for example in examples])\n",
        "train_data.head()"
      ],
      "execution_count": null,
      "outputs": [
        {
          "output_type": "execute_result",
          "data": {
            "text/html": [
              "<div>\n",
              "<style scoped>\n",
              "    .dataframe tbody tr th:only-of-type {\n",
              "        vertical-align: middle;\n",
              "    }\n",
              "\n",
              "    .dataframe tbody tr th {\n",
              "        vertical-align: top;\n",
              "    }\n",
              "\n",
              "    .dataframe thead th {\n",
              "        text-align: right;\n",
              "    }\n",
              "</style>\n",
              "<table border=\"1\" class=\"dataframe\">\n",
              "  <thead>\n",
              "    <tr style=\"text-align: right;\">\n",
              "      <th></th>\n",
              "      <th>qas_id</th>\n",
              "      <th>question_text</th>\n",
              "      <th>doc_tokens</th>\n",
              "      <th>orig_answer_text</th>\n",
              "      <th>start_position</th>\n",
              "      <th>end_position</th>\n",
              "      <th>is_impossible</th>\n",
              "    </tr>\n",
              "  </thead>\n",
              "  <tbody>\n",
              "    <tr>\n",
              "      <th>0</th>\n",
              "      <td>56be85543aeaaa14008c9063</td>\n",
              "      <td>When did Beyonce start becoming popular?</td>\n",
              "      <td>[Beyoncé, Giselle, Knowles-Carter, (/biːˈjɒnse...</td>\n",
              "      <td>in the late 1990s</td>\n",
              "      <td>39</td>\n",
              "      <td>42</td>\n",
              "      <td>False</td>\n",
              "    </tr>\n",
              "    <tr>\n",
              "      <th>1</th>\n",
              "      <td>56be85543aeaaa14008c9065</td>\n",
              "      <td>What areas did Beyonce compete in when she was...</td>\n",
              "      <td>[Beyoncé, Giselle, Knowles-Carter, (/biːˈjɒnse...</td>\n",
              "      <td>singing and dancing</td>\n",
              "      <td>28</td>\n",
              "      <td>30</td>\n",
              "      <td>False</td>\n",
              "    </tr>\n",
              "    <tr>\n",
              "      <th>2</th>\n",
              "      <td>56be85543aeaaa14008c9066</td>\n",
              "      <td>When did Beyonce leave Destiny's Child and bec...</td>\n",
              "      <td>[Beyoncé, Giselle, Knowles-Carter, (/biːˈjɒnse...</td>\n",
              "      <td>2003</td>\n",
              "      <td>82</td>\n",
              "      <td>82</td>\n",
              "      <td>False</td>\n",
              "    </tr>\n",
              "    <tr>\n",
              "      <th>3</th>\n",
              "      <td>56bf6b0f3aeaaa14008c9601</td>\n",
              "      <td>In what city and state did Beyonce  grow up?</td>\n",
              "      <td>[Beyoncé, Giselle, Knowles-Carter, (/biːˈjɒnse...</td>\n",
              "      <td>Houston, Texas</td>\n",
              "      <td>22</td>\n",
              "      <td>23</td>\n",
              "      <td>False</td>\n",
              "    </tr>\n",
              "    <tr>\n",
              "      <th>4</th>\n",
              "      <td>56bf6b0f3aeaaa14008c9602</td>\n",
              "      <td>In which decade did Beyonce become famous?</td>\n",
              "      <td>[Beyoncé, Giselle, Knowles-Carter, (/biːˈjɒnse...</td>\n",
              "      <td>late 1990s</td>\n",
              "      <td>41</td>\n",
              "      <td>42</td>\n",
              "      <td>False</td>\n",
              "    </tr>\n",
              "  </tbody>\n",
              "</table>\n",
              "</div>"
            ],
            "text/plain": [
              "                     qas_id  ... is_impossible\n",
              "0  56be85543aeaaa14008c9063  ...         False\n",
              "1  56be85543aeaaa14008c9065  ...         False\n",
              "2  56be85543aeaaa14008c9066  ...         False\n",
              "3  56bf6b0f3aeaaa14008c9601  ...         False\n",
              "4  56bf6b0f3aeaaa14008c9602  ...         False\n",
              "\n",
              "[5 rows x 7 columns]"
            ]
          },
          "metadata": {
            "tags": []
          },
          "execution_count": 12
        }
      ]
    },
    {
      "cell_type": "markdown",
      "metadata": {
        "id": "7ZphXyCsF4vn"
      },
      "source": [
        "## BERT Input Format\n",
        "To feed a QA task into BERT, we pack both the question and the reference text into the input.\n",
        "\n",
        "![input_formatting.png](data:image/png;base64,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)\n",
        "\n",
        "The two pieces of text are separated by the special `[SEP]` token. \n",
        "\n",
        "BERT also uses \"Segment Embeddings\" to differentiate the question from the reference text. These are simply two embeddings (for segments \"A\" and \"B\") that BERT learned, and which it adds to the token embeddings before feeding them into the input layer. "
      ]
    },
    {
      "cell_type": "code",
      "metadata": {
        "id": "cNVta-8TrNN8",
        "colab": {
          "base_uri": "https://localhost:8080/",
          "height": 465
        },
        "outputId": "46958786-eaf7-4fc2-ba98-43ca98052d8c"
      },
      "source": [
        "sample = train_data.sample(frac=1).head(1)\n",
        "context = sample.doc_tokens.values\n",
        "train_data[train_data.doc_tokens.values==context]"
      ],
      "execution_count": null,
      "outputs": [
        {
          "output_type": "execute_result",
          "data": {
            "text/html": [
              "<div>\n",
              "<style scoped>\n",
              "    .dataframe tbody tr th:only-of-type {\n",
              "        vertical-align: middle;\n",
              "    }\n",
              "\n",
              "    .dataframe tbody tr th {\n",
              "        vertical-align: top;\n",
              "    }\n",
              "\n",
              "    .dataframe thead th {\n",
              "        text-align: right;\n",
              "    }\n",
              "</style>\n",
              "<table border=\"1\" class=\"dataframe\">\n",
              "  <thead>\n",
              "    <tr style=\"text-align: right;\">\n",
              "      <th></th>\n",
              "      <th>qas_id</th>\n",
              "      <th>question_text</th>\n",
              "      <th>doc_tokens</th>\n",
              "      <th>orig_answer_text</th>\n",
              "      <th>start_position</th>\n",
              "      <th>end_position</th>\n",
              "      <th>is_impossible</th>\n",
              "    </tr>\n",
              "  </thead>\n",
              "  <tbody>\n",
              "    <tr>\n",
              "      <th>117139</th>\n",
              "      <td>5730a771069b531400832209</td>\n",
              "      <td>How long was there native Sumerian rule during...</td>\n",
              "      <td>[Native, Sumerian, rule, re-emerged, for, abou...</td>\n",
              "      <td>about a century</td>\n",
              "      <td>5</td>\n",
              "      <td>7</td>\n",
              "      <td>False</td>\n",
              "    </tr>\n",
              "    <tr>\n",
              "      <th>117140</th>\n",
              "      <td>5730a771069b53140083220a</td>\n",
              "      <td>When was the Third Dynasty of Ur?</td>\n",
              "      <td>[Native, Sumerian, rule, re-emerged, for, abou...</td>\n",
              "      <td>approximately 2100-2000 BC</td>\n",
              "      <td>19</td>\n",
              "      <td>21</td>\n",
              "      <td>False</td>\n",
              "    </tr>\n",
              "    <tr>\n",
              "      <th>117141</th>\n",
              "      <td>5730a771069b53140083220b</td>\n",
              "      <td>What language was in use in the Neo-Sumerian E...</td>\n",
              "      <td>[Native, Sumerian, rule, re-emerged, for, abou...</td>\n",
              "      <td>Akkadian</td>\n",
              "      <td>24</td>\n",
              "      <td>24</td>\n",
              "      <td>False</td>\n",
              "    </tr>\n",
              "    <tr>\n",
              "      <th>117142</th>\n",
              "      <td>5730a771069b53140083220c</td>\n",
              "      <td>What is considered to be the world's first city?</td>\n",
              "      <td>[Native, Sumerian, rule, re-emerged, for, abou...</td>\n",
              "      <td>Eridu</td>\n",
              "      <td>34</td>\n",
              "      <td>34</td>\n",
              "      <td>False</td>\n",
              "    </tr>\n",
              "    <tr>\n",
              "      <th>117143</th>\n",
              "      <td>5730a771069b53140083220d</td>\n",
              "      <td>How many cultures may have fused together in E...</td>\n",
              "      <td>[Native, Sumerian, rule, re-emerged, for, abou...</td>\n",
              "      <td>three</td>\n",
              "      <td>52</td>\n",
              "      <td>52</td>\n",
              "      <td>False</td>\n",
              "    </tr>\n",
              "    <tr>\n",
              "      <th>117144</th>\n",
              "      <td>5a64f832c2b11c001a425b57</td>\n",
              "      <td>What Empire was followed by native Sumerian rule?</td>\n",
              "      <td>[Native, Sumerian, rule, re-emerged, for, abou...</td>\n",
              "      <td></td>\n",
              "      <td>-1</td>\n",
              "      <td>-1</td>\n",
              "      <td>True</td>\n",
              "    </tr>\n",
              "    <tr>\n",
              "      <th>117145</th>\n",
              "      <td>5a64f832c2b11c001a425b58</td>\n",
              "      <td>What dynasty was in power from the 21st to the...</td>\n",
              "      <td>[Native, Sumerian, rule, re-emerged, for, abou...</td>\n",
              "      <td></td>\n",
              "      <td>-1</td>\n",
              "      <td>-1</td>\n",
              "      <td>True</td>\n",
              "    </tr>\n",
              "    <tr>\n",
              "      <th>117146</th>\n",
              "      <td>5a64f832c2b11c001a425b59</td>\n",
              "      <td>What was the worlds first settlement?</td>\n",
              "      <td>[Native, Sumerian, rule, re-emerged, for, abou...</td>\n",
              "      <td></td>\n",
              "      <td>-1</td>\n",
              "      <td>-1</td>\n",
              "      <td>True</td>\n",
              "    </tr>\n",
              "    <tr>\n",
              "      <th>117147</th>\n",
              "      <td>5a64f832c2b11c001a425b5a</td>\n",
              "      <td>How many cultures could be found in Arabia at ...</td>\n",
              "      <td>[Native, Sumerian, rule, re-emerged, for, abou...</td>\n",
              "      <td></td>\n",
              "      <td>-1</td>\n",
              "      <td>-1</td>\n",
              "      <td>True</td>\n",
              "    </tr>\n",
              "  </tbody>\n",
              "</table>\n",
              "</div>"
            ],
            "text/plain": [
              "                          qas_id  ... is_impossible\n",
              "117139  5730a771069b531400832209  ...         False\n",
              "117140  5730a771069b53140083220a  ...         False\n",
              "117141  5730a771069b53140083220b  ...         False\n",
              "117142  5730a771069b53140083220c  ...         False\n",
              "117143  5730a771069b53140083220d  ...         False\n",
              "117144  5a64f832c2b11c001a425b57  ...          True\n",
              "117145  5a64f832c2b11c001a425b58  ...          True\n",
              "117146  5a64f832c2b11c001a425b59  ...          True\n",
              "117147  5a64f832c2b11c001a425b5a  ...          True\n",
              "\n",
              "[9 rows x 7 columns]"
            ]
          },
          "metadata": {
            "tags": []
          },
          "execution_count": 13
        }
      ]
    },
    {
      "cell_type": "code",
      "metadata": {
        "id": "86ObEyQtkqjs"
      },
      "source": [
        "import random\n",
        "def print_squad_sample(train_data, line_length=14, separator_length=120):\n",
        "  sample = train_data.sample(frac=1).head(1)\n",
        "  context = sample.doc_tokens.values\n",
        "  print('='*separator_length)\n",
        "  print('CONTEXT: ')\n",
        "  print('='*separator_length)\n",
        "  lines = [' '.join(context[0][idx:idx+line_length]) for idx in range(0, len(context[0]), line_length)]\n",
        "  for l in lines:\n",
        "      print(l)\n",
        "  print('='*separator_length)\n",
        "  questions = train_data[train_data.doc_tokens.values==context]\n",
        "  print('QUESTION:', ' '*(3*separator_length//4), 'ANSWER:')\n",
        "  for idx, row in questions.iterrows():\n",
        "    question = row.question_text\n",
        "    answer = row.orig_answer_text\n",
        "    print(question, ' '*(3*separator_length//4-len(question)+9), (answer if answer else 'No awnser found'))"
      ],
      "execution_count": null,
      "outputs": []
    },
    {
      "cell_type": "code",
      "metadata": {
        "id": "zU4S6x0YnnPT",
        "colab": {
          "base_uri": "https://localhost:8080/"
        },
        "outputId": "87633cba-b1ad-41ca-ef6b-274bdbc9cb0d"
      },
      "source": [
        "print_squad_sample(train_data)"
      ],
      "execution_count": null,
      "outputs": [
        {
          "output_type": "stream",
          "text": [
            "========================================================================================================================\n",
            "CONTEXT: \n",
            "========================================================================================================================\n",
            "Continuing his experiments in Brantford, Bell brought home a working model of his telephone.\n",
            "On August 3, 1876, from the telegraph office in Mount Pleasant five miles (eight\n",
            "km) away from Brantford, Bell sent a tentative telegram indicating that he was ready.\n",
            "With curious onlookers packed into the office as witnesses, faint voices were heard replying.\n",
            "The following night, he amazed guests as well as his family when a message\n",
            "was received at the Bell home from Brantford, four miles (six km) distant, along\n",
            "an improvised wire strung up along telegraph lines and fences, and laid through a\n",
            "tunnel. This time, guests at the household distinctly heard people in Brantford reading and\n",
            "singing. These experiments clearly proved that the telephone could work over long distances.\n",
            "========================================================================================================================\n",
            "QUESTION:                                                                                            ANSWER:\n",
            "From what city did Bell send his first message?                                                      Mount Pleasant\n",
            "Bell sent messages over wires hooked onto telegraph lines and what?                                  fences\n",
            "What did the group at the Bells house hear other people doing?                                       reading and singing\n"
          ],
          "name": "stdout"
        }
      ]
    },
    {
      "cell_type": "code",
      "metadata": {
        "id": "H3yDIGj8t1_M",
        "colab": {
          "base_uri": "https://localhost:8080/",
          "height": 518
        },
        "outputId": "b25bbfe7-7387-4dfd-ef4c-1c5f7a88c4b0"
      },
      "source": [
        "train_data['paragraph_len'] = train_data['doc_tokens'].apply(len)## get the length of 'doc_tokens'\n",
        "train_data['question_len'] = train_data['question_text'].apply(len)## get the length of 'question_text' here\n",
        "train_data.sample(frac=1).head(5)"
      ],
      "execution_count": null,
      "outputs": [
        {
          "output_type": "execute_result",
          "data": {
            "text/html": [
              "<div>\n",
              "<style scoped>\n",
              "    .dataframe tbody tr th:only-of-type {\n",
              "        vertical-align: middle;\n",
              "    }\n",
              "\n",
              "    .dataframe tbody tr th {\n",
              "        vertical-align: top;\n",
              "    }\n",
              "\n",
              "    .dataframe thead th {\n",
              "        text-align: right;\n",
              "    }\n",
              "</style>\n",
              "<table border=\"1\" class=\"dataframe\">\n",
              "  <thead>\n",
              "    <tr style=\"text-align: right;\">\n",
              "      <th></th>\n",
              "      <th>qas_id</th>\n",
              "      <th>question_text</th>\n",
              "      <th>doc_tokens</th>\n",
              "      <th>orig_answer_text</th>\n",
              "      <th>start_position</th>\n",
              "      <th>end_position</th>\n",
              "      <th>is_impossible</th>\n",
              "      <th>paragraph_len</th>\n",
              "      <th>question_len</th>\n",
              "    </tr>\n",
              "  </thead>\n",
              "  <tbody>\n",
              "    <tr>\n",
              "      <th>99146</th>\n",
              "      <td>5ace6d0932bba1001ae4a675</td>\n",
              "      <td>What type of doctors work at the Guam Regional...</td>\n",
              "      <td>[The, Government, of, Guam, maintains, the, is...</td>\n",
              "      <td></td>\n",
              "      <td>-1</td>\n",
              "      <td>-1</td>\n",
              "      <td>True</td>\n",
              "      <td>79</td>\n",
              "      <td>60</td>\n",
              "    </tr>\n",
              "    <tr>\n",
              "      <th>10201</th>\n",
              "      <td>5ad387dc604f3c001a3fe56f</td>\n",
              "      <td>Which type of power is vested in Congress?</td>\n",
              "      <td>[Judicial, power—the, power, to, decide, cases...</td>\n",
              "      <td></td>\n",
              "      <td>-1</td>\n",
              "      <td>-1</td>\n",
              "      <td>True</td>\n",
              "      <td>83</td>\n",
              "      <td>42</td>\n",
              "    </tr>\n",
              "    <tr>\n",
              "      <th>5314</th>\n",
              "      <td>56d1cf79e7d4791d0090220b</td>\n",
              "      <td>What does arupyadhatu mean?</td>\n",
              "      <td>[The, above, are, further, subdivided, into, 3...</td>\n",
              "      <td>formless realms</td>\n",
              "      <td>42</td>\n",
              "      <td>43</td>\n",
              "      <td>False</td>\n",
              "      <td>61</td>\n",
              "      <td>27</td>\n",
              "    </tr>\n",
              "    <tr>\n",
              "      <th>8951</th>\n",
              "      <td>5a7fd4e18f0597001ac000db</td>\n",
              "      <td>What is the type of symbiotic relationship whe...</td>\n",
              "      <td>[Some, symbiotic, relationships, are, obligate...</td>\n",
              "      <td></td>\n",
              "      <td>-1</td>\n",
              "      <td>-1</td>\n",
              "      <td>True</td>\n",
              "      <td>48</td>\n",
              "      <td>108</td>\n",
              "    </tr>\n",
              "    <tr>\n",
              "      <th>27760</th>\n",
              "      <td>56fb7b7f8ddada1400cd6451</td>\n",
              "      <td>What did peasant women do when it was time for...</td>\n",
              "      <td>[Women, in, the, Middle, Ages, were, officiall...</td>\n",
              "      <td>help with field-work</td>\n",
              "      <td>88</td>\n",
              "      <td>90</td>\n",
              "      <td>False</td>\n",
              "      <td>170</td>\n",
              "      <td>59</td>\n",
              "    </tr>\n",
              "  </tbody>\n",
              "</table>\n",
              "</div>"
            ],
            "text/plain": [
              "                         qas_id  ... question_len\n",
              "99146  5ace6d0932bba1001ae4a675  ...           60\n",
              "10201  5ad387dc604f3c001a3fe56f  ...           42\n",
              "5314   56d1cf79e7d4791d0090220b  ...           27\n",
              "8951   5a7fd4e18f0597001ac000db  ...          108\n",
              "27760  56fb7b7f8ddada1400cd6451  ...           59\n",
              "\n",
              "[5 rows x 9 columns]"
            ]
          },
          "metadata": {
            "tags": []
          },
          "execution_count": 16
        }
      ]
    },
    {
      "cell_type": "code",
      "metadata": {
        "id": "2VduHO4WoXwp",
        "colab": {
          "base_uri": "https://localhost:8080/"
        },
        "outputId": "69cd2e3c-f536-4d76-824c-6a7bef978471"
      },
      "source": [
        "max_seq_length = 256\n",
        "print(\"Percentage of context's less than max_seq_length = %s%%\" % (len([l for l in train_data['paragraph_len'] if l <= max_seq_length])/len(train_data) * 100))"
      ],
      "execution_count": null,
      "outputs": [
        {
          "output_type": "stream",
          "text": [
            "Percentage of context's less than max_seq_length = 98.19289589392184%\n"
          ],
          "name": "stdout"
        }
      ]
    },
    {
      "cell_type": "markdown",
      "metadata": {
        "id": "nNb1cdz5GStp"
      },
      "source": [
        "## Start & End Token Classifiers\n",
        "BERT needs to highlight a \"span\" of text containing the answer--this is represented as simply predicting which token marks the start of the answer, and which token marks the end.\n",
        "\n",
        "![start_token_classification.png](data:image/png;base64,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)\n",
        "\n",
        "For every token in the text, we feed its final embedding into the start token classifier. The start token classifier only has a single set of weights (represented by the blue \"start\" rectangle in the above illustration) which it applies to every word.\n",
        "\n",
        "After taking the dot product between the output embeddings and the 'start' weights, we apply the softmax activation to produce a probability distribution over all of the words. Whichever word has the highest probability of being the start token is the one that we pick.\n",
        "\n",
        "We repeat this process for the end token--we have a separate weight vector this.\n",
        "\n",
        "![end_token_classification.png](data:image/png;base64,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)"
      ]
    },
    {
      "cell_type": "code",
      "metadata": {
        "id": "v6t5DqC3KlmV"
      },
      "source": [
        "model = 'bert-large-uncased' ## choose model https://huggingface.co/models like you can choose basic models such as 'bert-base-uncased' or 'bert-large-uncased' or others"
      ],
      "execution_count": null,
      "outputs": []
    },
    {
      "cell_type": "code",
      "metadata": {
        "id": "zywEw_BZtx5l"
      },
      "source": [
        "tokenizer = BertTokenizer.from_pretrained('bert-large-uncased')"
      ],
      "execution_count": null,
      "outputs": []
    },
    {
      "cell_type": "markdown",
      "metadata": {
        "id": "Kc8rx4Q7HqbR"
      },
      "source": [
        ""
      ]
    },
    {
      "cell_type": "code",
      "metadata": {
        "id": "_Dj9SoVnuSh2"
      },
      "source": [
        "doc_stride = 128\n",
        "max_seq_length = 256\n",
        "max_query_length = 64\n",
        "# batch size of 64 if RAM available.\n",
        "batch_size =32  # choose 4 - 64"
      ],
      "execution_count": null,
      "outputs": []
    },
    {
      "cell_type": "code",
      "metadata": {
        "id": "DS2oM0q3pdni"
      },
      "source": [
        "cached_features_file = 'cache_train'"
      ],
      "execution_count": null,
      "outputs": []
    },
    {
      "cell_type": "code",
      "metadata": {
        "id": "ad8wClHXD20O",
        "colab": {
          "base_uri": "https://localhost:8080/"
        },
        "outputId": "da499767-dc46-4243-ec39-511b469006ca"
      },
      "source": [
        "len(examples)"
      ],
      "execution_count": null,
      "outputs": [
        {
          "output_type": "execute_result",
          "data": {
            "text/plain": [
              "130319"
            ]
          },
          "metadata": {
            "tags": []
          },
          "execution_count": 22
        }
      ]
    },
    {
      "cell_type": "code",
      "metadata": {
        "colab": {
          "base_uri": "https://localhost:8080/"
        },
        "id": "R6HUW4SD-Zo7",
        "outputId": "5ec4abd4-4868-40f1-8b4a-e73cb98d2d2a"
      },
      "source": [
        "print(train_data.shape)\n"
      ],
      "execution_count": null,
      "outputs": [
        {
          "output_type": "stream",
          "text": [
            "(130319, 9)\n"
          ],
          "name": "stdout"
        }
      ]
    },
    {
      "cell_type": "code",
      "metadata": {
        "id": "nMqo_TFyElVE"
      },
      "source": [
        "examples =examples[:10000]## choose first 1000 or 10000 more depending on percentage of train data\n"
      ],
      "execution_count": null,
      "outputs": []
    },
    {
      "cell_type": "code",
      "metadata": {
        "id": "OxXiC4G2uUwa"
      },
      "source": [
        "if not os.path.exists(cached_features_file):\n",
        "  features = convert_examples_to_features(examples=examples,\n",
        "                                        tokenizer=tokenizer,\n",
        "                                        max_seq_length=max_seq_length,\n",
        "                                        doc_stride=doc_stride,\n",
        "                                        max_query_length=max_query_length,\n",
        "                                        is_training=True)\n",
        "  # torch.save(features, cached_features_file)\n",
        "else:\n",
        "  features = torch.load(cached_features_file)"
      ],
      "execution_count": null,
      "outputs": []
    },
    {
      "cell_type": "code",
      "metadata": {
        "id": "KqKRwvvjuW1I"
      },
      "source": [
        "def set_seed(seed=42):\n",
        "    np.random.seed(seed)\n",
        "    torch.manual_seed(seed)\n",
        "    torch.cuda.manual_seed_all(seed)"
      ],
      "execution_count": null,
      "outputs": []
    },
    {
      "cell_type": "code",
      "metadata": {
        "id": "Q8wpGNktunPQ"
      },
      "source": [
        "# Convert to Tensors and build dataset\n",
        "all_input_ids = torch.tensor([f.input_ids for f in features], dtype=torch.long)\n",
        "all_input_mask = torch.tensor([f.input_mask for f in features], dtype=torch.long)## similarly convert tensor for input mask\n",
        "all_segment_ids = torch.tensor([f.segment_ids for f in features], dtype=torch.long)## similarly convert tensor for segment ids\n",
        "all_cls_index =torch.tensor([f.cls_index for f in features], dtype=torch.long) ## similarly convert tensor for cls index\n",
        "all_p_mask = torch.tensor([f.p_mask  for f in features], dtype=torch.float)## similarly convert tensor for p mask\n",
        "\n",
        "all_start_positions = torch.tensor([f.start_position for f in features], dtype=torch.long)## similarly convert tensor for start position\n",
        "all_end_positions = torch.tensor([f.end_position for f in features], dtype=torch.long)## similarly convert tensor for end position\n",
        "dataset = TensorDataset(all_input_ids, all_input_mask, all_segment_ids,\n",
        "                        all_start_positions, all_end_positions,\n",
        "                        all_cls_index, all_p_mask)"
      ],
      "execution_count": null,
      "outputs": []
    },
    {
      "cell_type": "code",
      "metadata": {
        "id": "siznTVwRuvkC"
      },
      "source": [
        "train_sampler = RandomSampler(dataset)\n",
        "train_dataloader = DataLoader(dataset, sampler=train_sampler, batch_size=batch_size, drop_last=True)"
      ],
      "execution_count": null,
      "outputs": []
    },
    {
      "cell_type": "code",
      "metadata": {
        "id": "HfJGpCMcu01s"
      },
      "source": [
        "import glob\n",
        "checkpoints = sorted(glob.glob('checkpoint*-[0-9]*'))"
      ],
      "execution_count": null,
      "outputs": []
    },
    {
      "cell_type": "code",
      "metadata": {
        "id": "FE-mmGhwIJWe"
      },
      "source": [
        "def to_list(tensor):\n",
        "    return tensor.detach().cpu().tolist()"
      ],
      "execution_count": null,
      "outputs": []
    },
    {
      "cell_type": "markdown",
      "metadata": {
        "id": "crSIG9PDIAM_"
      },
      "source": [
        "### Pick a Model\n",
        "Not every Transformer architecture lends itself naturally to the task of question answering. For example, GPT does not do QA; similarly BERT does not do machine translation.  HF identifies the following model types for the QA task: \n",
        "\n",
        "- BERT\n",
        "- distilBERT \n",
        "- ALBERT\n",
        "- RoBERTa\n",
        "- XLNet\n",
        "- XLM\n",
        "- FlauBERT\n",
        "\n",
        "\n",
        "I'll stick with the now-classic BERT model in this notebook, but feel free to try out some others (I will - and I'll let you know when we do)."
      ]
    },
    {
      "cell_type": "code",
      "metadata": {
        "id": "d06HFmPmu3Yq",
        "colab": {
          "base_uri": "https://localhost:8080/"
        },
        "outputId": "f7e93b46-1017-40a4-9382-b38b77bae3af"
      },
      "source": [
        "if len(checkpoints) > 0:\n",
        "  global_step = checkpoints[-1].split('-')[-1]\n",
        "  ckpt_name = 'checkpoint-{}'.format(global_step)\n",
        "  print(\"Loading model from checkpoint %s\" % ckpt_name)\n",
        "  model = BertForQuestionAnswering.from_pretrained(ckpt_name)\n",
        "  train_loss_set_ckpt = torch.load(ckpt_name + '/training_loss.pt')\n",
        "  train_loss_set = to_list(train_loss_set_ckpt)\n",
        "  tr_loss = train_loss_set[-1]\n",
        "else:\n",
        "  global_step = 0\n",
        "  train_loss_set = []\n",
        "  tr_loss = 0.0\n",
        "  model = BertForQuestionAnswering.from_pretrained('bert-large-uncased')  ## choose model https://huggingface.co/models like you can choose basic models such as 'bert-base-uncased' or 'bert-large-uncased' or others\n",
        "\n",
        "model.cuda()"
      ],
      "execution_count": null,
      "outputs": [
        {
          "output_type": "stream",
          "text": [
            "Loading model from checkpoint checkpoint-50\n"
          ],
          "name": "stdout"
        },
        {
          "output_type": "execute_result",
          "data": {
            "text/plain": [
              "BertForQuestionAnswering(\n",
              "  (bert): BertModel(\n",
              "    (embeddings): BertEmbeddings(\n",
              "      (word_embeddings): Embedding(30522, 768, padding_idx=0)\n",
              "      (position_embeddings): Embedding(512, 768)\n",
              "      (token_type_embeddings): Embedding(2, 768)\n",
              "      (LayerNorm): LayerNorm((768,), eps=1e-12, elementwise_affine=True)\n",
              "      (dropout): Dropout(p=0.1, inplace=False)\n",
              "    )\n",
              "    (encoder): BertEncoder(\n",
              "      (layer): ModuleList(\n",
              "        (0): BertLayer(\n",
              "          (attention): BertAttention(\n",
              "            (self): BertSelfAttention(\n",
              "              (query): Linear(in_features=768, out_features=768, bias=True)\n",
              "              (key): Linear(in_features=768, out_features=768, bias=True)\n",
              "              (value): Linear(in_features=768, out_features=768, bias=True)\n",
              "              (dropout): Dropout(p=0.1, inplace=False)\n",
              "            )\n",
              "            (output): BertSelfOutput(\n",
              "              (dense): Linear(in_features=768, out_features=768, bias=True)\n",
              "              (LayerNorm): LayerNorm((768,), eps=1e-12, elementwise_affine=True)\n",
              "              (dropout): Dropout(p=0.1, inplace=False)\n",
              "            )\n",
              "          )\n",
              "          (intermediate): BertIntermediate(\n",
              "            (dense): Linear(in_features=768, out_features=3072, bias=True)\n",
              "          )\n",
              "          (output): BertOutput(\n",
              "            (dense): Linear(in_features=3072, out_features=768, bias=True)\n",
              "            (LayerNorm): LayerNorm((768,), eps=1e-12, elementwise_affine=True)\n",
              "            (dropout): Dropout(p=0.1, inplace=False)\n",
              "          )\n",
              "        )\n",
              "        (1): BertLayer(\n",
              "          (attention): BertAttention(\n",
              "            (self): BertSelfAttention(\n",
              "              (query): Linear(in_features=768, out_features=768, bias=True)\n",
              "              (key): Linear(in_features=768, out_features=768, bias=True)\n",
              "              (value): Linear(in_features=768, out_features=768, bias=True)\n",
              "              (dropout): Dropout(p=0.1, inplace=False)\n",
              "            )\n",
              "            (output): BertSelfOutput(\n",
              "              (dense): Linear(in_features=768, out_features=768, bias=True)\n",
              "              (LayerNorm): LayerNorm((768,), eps=1e-12, elementwise_affine=True)\n",
              "              (dropout): Dropout(p=0.1, inplace=False)\n",
              "            )\n",
              "          )\n",
              "          (intermediate): BertIntermediate(\n",
              "            (dense): Linear(in_features=768, out_features=3072, bias=True)\n",
              "          )\n",
              "          (output): BertOutput(\n",
              "            (dense): Linear(in_features=3072, out_features=768, bias=True)\n",
              "            (LayerNorm): LayerNorm((768,), eps=1e-12, elementwise_affine=True)\n",
              "            (dropout): Dropout(p=0.1, inplace=False)\n",
              "          )\n",
              "        )\n",
              "        (2): BertLayer(\n",
              "          (attention): BertAttention(\n",
              "            (self): BertSelfAttention(\n",
              "              (query): Linear(in_features=768, out_features=768, bias=True)\n",
              "              (key): Linear(in_features=768, out_features=768, bias=True)\n",
              "              (value): Linear(in_features=768, out_features=768, bias=True)\n",
              "              (dropout): Dropout(p=0.1, inplace=False)\n",
              "            )\n",
              "            (output): BertSelfOutput(\n",
              "              (dense): Linear(in_features=768, out_features=768, bias=True)\n",
              "              (LayerNorm): LayerNorm((768,), eps=1e-12, elementwise_affine=True)\n",
              "              (dropout): Dropout(p=0.1, inplace=False)\n",
              "            )\n",
              "          )\n",
              "          (intermediate): BertIntermediate(\n",
              "            (dense): Linear(in_features=768, out_features=3072, bias=True)\n",
              "          )\n",
              "          (output): BertOutput(\n",
              "            (dense): Linear(in_features=3072, out_features=768, bias=True)\n",
              "            (LayerNorm): LayerNorm((768,), eps=1e-12, elementwise_affine=True)\n",
              "            (dropout): Dropout(p=0.1, inplace=False)\n",
              "          )\n",
              "        )\n",
              "        (3): BertLayer(\n",
              "          (attention): BertAttention(\n",
              "            (self): BertSelfAttention(\n",
              "              (query): Linear(in_features=768, out_features=768, bias=True)\n",
              "              (key): Linear(in_features=768, out_features=768, bias=True)\n",
              "              (value): Linear(in_features=768, out_features=768, bias=True)\n",
              "              (dropout): Dropout(p=0.1, inplace=False)\n",
              "            )\n",
              "            (output): BertSelfOutput(\n",
              "              (dense): Linear(in_features=768, out_features=768, bias=True)\n",
              "              (LayerNorm): LayerNorm((768,), eps=1e-12, elementwise_affine=True)\n",
              "              (dropout): Dropout(p=0.1, inplace=False)\n",
              "            )\n",
              "          )\n",
              "          (intermediate): BertIntermediate(\n",
              "            (dense): Linear(in_features=768, out_features=3072, bias=True)\n",
              "          )\n",
              "          (output): BertOutput(\n",
              "            (dense): Linear(in_features=3072, out_features=768, bias=True)\n",
              "            (LayerNorm): LayerNorm((768,), eps=1e-12, elementwise_affine=True)\n",
              "            (dropout): Dropout(p=0.1, inplace=False)\n",
              "          )\n",
              "        )\n",
              "        (4): BertLayer(\n",
              "          (attention): BertAttention(\n",
              "            (self): BertSelfAttention(\n",
              "              (query): Linear(in_features=768, out_features=768, bias=True)\n",
              "              (key): Linear(in_features=768, out_features=768, bias=True)\n",
              "              (value): Linear(in_features=768, out_features=768, bias=True)\n",
              "              (dropout): Dropout(p=0.1, inplace=False)\n",
              "            )\n",
              "            (output): BertSelfOutput(\n",
              "              (dense): Linear(in_features=768, out_features=768, bias=True)\n",
              "              (LayerNorm): LayerNorm((768,), eps=1e-12, elementwise_affine=True)\n",
              "              (dropout): Dropout(p=0.1, inplace=False)\n",
              "            )\n",
              "          )\n",
              "          (intermediate): BertIntermediate(\n",
              "            (dense): Linear(in_features=768, out_features=3072, bias=True)\n",
              "          )\n",
              "          (output): BertOutput(\n",
              "            (dense): Linear(in_features=3072, out_features=768, bias=True)\n",
              "            (LayerNorm): LayerNorm((768,), eps=1e-12, elementwise_affine=True)\n",
              "            (dropout): Dropout(p=0.1, inplace=False)\n",
              "          )\n",
              "        )\n",
              "        (5): BertLayer(\n",
              "          (attention): BertAttention(\n",
              "            (self): BertSelfAttention(\n",
              "              (query): Linear(in_features=768, out_features=768, bias=True)\n",
              "              (key): Linear(in_features=768, out_features=768, bias=True)\n",
              "              (value): Linear(in_features=768, out_features=768, bias=True)\n",
              "              (dropout): Dropout(p=0.1, inplace=False)\n",
              "            )\n",
              "            (output): BertSelfOutput(\n",
              "              (dense): Linear(in_features=768, out_features=768, bias=True)\n",
              "              (LayerNorm): LayerNorm((768,), eps=1e-12, elementwise_affine=True)\n",
              "              (dropout): Dropout(p=0.1, inplace=False)\n",
              "            )\n",
              "          )\n",
              "          (intermediate): BertIntermediate(\n",
              "            (dense): Linear(in_features=768, out_features=3072, bias=True)\n",
              "          )\n",
              "          (output): BertOutput(\n",
              "            (dense): Linear(in_features=3072, out_features=768, bias=True)\n",
              "            (LayerNorm): LayerNorm((768,), eps=1e-12, elementwise_affine=True)\n",
              "            (dropout): Dropout(p=0.1, inplace=False)\n",
              "          )\n",
              "        )\n",
              "        (6): BertLayer(\n",
              "          (attention): BertAttention(\n",
              "            (self): BertSelfAttention(\n",
              "              (query): Linear(in_features=768, out_features=768, bias=True)\n",
              "              (key): Linear(in_features=768, out_features=768, bias=True)\n",
              "              (value): Linear(in_features=768, out_features=768, bias=True)\n",
              "              (dropout): Dropout(p=0.1, inplace=False)\n",
              "            )\n",
              "            (output): BertSelfOutput(\n",
              "              (dense): Linear(in_features=768, out_features=768, bias=True)\n",
              "              (LayerNorm): LayerNorm((768,), eps=1e-12, elementwise_affine=True)\n",
              "              (dropout): Dropout(p=0.1, inplace=False)\n",
              "            )\n",
              "          )\n",
              "          (intermediate): BertIntermediate(\n",
              "            (dense): Linear(in_features=768, out_features=3072, bias=True)\n",
              "          )\n",
              "          (output): BertOutput(\n",
              "            (dense): Linear(in_features=3072, out_features=768, bias=True)\n",
              "            (LayerNorm): LayerNorm((768,), eps=1e-12, elementwise_affine=True)\n",
              "            (dropout): Dropout(p=0.1, inplace=False)\n",
              "          )\n",
              "        )\n",
              "        (7): BertLayer(\n",
              "          (attention): BertAttention(\n",
              "            (self): BertSelfAttention(\n",
              "              (query): Linear(in_features=768, out_features=768, bias=True)\n",
              "              (key): Linear(in_features=768, out_features=768, bias=True)\n",
              "              (value): Linear(in_features=768, out_features=768, bias=True)\n",
              "              (dropout): Dropout(p=0.1, inplace=False)\n",
              "            )\n",
              "            (output): BertSelfOutput(\n",
              "              (dense): Linear(in_features=768, out_features=768, bias=True)\n",
              "              (LayerNorm): LayerNorm((768,), eps=1e-12, elementwise_affine=True)\n",
              "              (dropout): Dropout(p=0.1, inplace=False)\n",
              "            )\n",
              "          )\n",
              "          (intermediate): BertIntermediate(\n",
              "            (dense): Linear(in_features=768, out_features=3072, bias=True)\n",
              "          )\n",
              "          (output): BertOutput(\n",
              "            (dense): Linear(in_features=3072, out_features=768, bias=True)\n",
              "            (LayerNorm): LayerNorm((768,), eps=1e-12, elementwise_affine=True)\n",
              "            (dropout): Dropout(p=0.1, inplace=False)\n",
              "          )\n",
              "        )\n",
              "        (8): BertLayer(\n",
              "          (attention): BertAttention(\n",
              "            (self): BertSelfAttention(\n",
              "              (query): Linear(in_features=768, out_features=768, bias=True)\n",
              "              (key): Linear(in_features=768, out_features=768, bias=True)\n",
              "              (value): Linear(in_features=768, out_features=768, bias=True)\n",
              "              (dropout): Dropout(p=0.1, inplace=False)\n",
              "            )\n",
              "            (output): BertSelfOutput(\n",
              "              (dense): Linear(in_features=768, out_features=768, bias=True)\n",
              "              (LayerNorm): LayerNorm((768,), eps=1e-12, elementwise_affine=True)\n",
              "              (dropout): Dropout(p=0.1, inplace=False)\n",
              "            )\n",
              "          )\n",
              "          (intermediate): BertIntermediate(\n",
              "            (dense): Linear(in_features=768, out_features=3072, bias=True)\n",
              "          )\n",
              "          (output): BertOutput(\n",
              "            (dense): Linear(in_features=3072, out_features=768, bias=True)\n",
              "            (LayerNorm): LayerNorm((768,), eps=1e-12, elementwise_affine=True)\n",
              "            (dropout): Dropout(p=0.1, inplace=False)\n",
              "          )\n",
              "        )\n",
              "        (9): BertLayer(\n",
              "          (attention): BertAttention(\n",
              "            (self): BertSelfAttention(\n",
              "              (query): Linear(in_features=768, out_features=768, bias=True)\n",
              "              (key): Linear(in_features=768, out_features=768, bias=True)\n",
              "              (value): Linear(in_features=768, out_features=768, bias=True)\n",
              "              (dropout): Dropout(p=0.1, inplace=False)\n",
              "            )\n",
              "            (output): BertSelfOutput(\n",
              "              (dense): Linear(in_features=768, out_features=768, bias=True)\n",
              "              (LayerNorm): LayerNorm((768,), eps=1e-12, elementwise_affine=True)\n",
              "              (dropout): Dropout(p=0.1, inplace=False)\n",
              "            )\n",
              "          )\n",
              "          (intermediate): BertIntermediate(\n",
              "            (dense): Linear(in_features=768, out_features=3072, bias=True)\n",
              "          )\n",
              "          (output): BertOutput(\n",
              "            (dense): Linear(in_features=3072, out_features=768, bias=True)\n",
              "            (LayerNorm): LayerNorm((768,), eps=1e-12, elementwise_affine=True)\n",
              "            (dropout): Dropout(p=0.1, inplace=False)\n",
              "          )\n",
              "        )\n",
              "        (10): BertLayer(\n",
              "          (attention): BertAttention(\n",
              "            (self): BertSelfAttention(\n",
              "              (query): Linear(in_features=768, out_features=768, bias=True)\n",
              "              (key): Linear(in_features=768, out_features=768, bias=True)\n",
              "              (value): Linear(in_features=768, out_features=768, bias=True)\n",
              "              (dropout): Dropout(p=0.1, inplace=False)\n",
              "            )\n",
              "            (output): BertSelfOutput(\n",
              "              (dense): Linear(in_features=768, out_features=768, bias=True)\n",
              "              (LayerNorm): LayerNorm((768,), eps=1e-12, elementwise_affine=True)\n",
              "              (dropout): Dropout(p=0.1, inplace=False)\n",
              "            )\n",
              "          )\n",
              "          (intermediate): BertIntermediate(\n",
              "            (dense): Linear(in_features=768, out_features=3072, bias=True)\n",
              "          )\n",
              "          (output): BertOutput(\n",
              "            (dense): Linear(in_features=3072, out_features=768, bias=True)\n",
              "            (LayerNorm): LayerNorm((768,), eps=1e-12, elementwise_affine=True)\n",
              "            (dropout): Dropout(p=0.1, inplace=False)\n",
              "          )\n",
              "        )\n",
              "        (11): BertLayer(\n",
              "          (attention): BertAttention(\n",
              "            (self): BertSelfAttention(\n",
              "              (query): Linear(in_features=768, out_features=768, bias=True)\n",
              "              (key): Linear(in_features=768, out_features=768, bias=True)\n",
              "              (value): Linear(in_features=768, out_features=768, bias=True)\n",
              "              (dropout): Dropout(p=0.1, inplace=False)\n",
              "            )\n",
              "            (output): BertSelfOutput(\n",
              "              (dense): Linear(in_features=768, out_features=768, bias=True)\n",
              "              (LayerNorm): LayerNorm((768,), eps=1e-12, elementwise_affine=True)\n",
              "              (dropout): Dropout(p=0.1, inplace=False)\n",
              "            )\n",
              "          )\n",
              "          (intermediate): BertIntermediate(\n",
              "            (dense): Linear(in_features=768, out_features=3072, bias=True)\n",
              "          )\n",
              "          (output): BertOutput(\n",
              "            (dense): Linear(in_features=3072, out_features=768, bias=True)\n",
              "            (LayerNorm): LayerNorm((768,), eps=1e-12, elementwise_affine=True)\n",
              "            (dropout): Dropout(p=0.1, inplace=False)\n",
              "          )\n",
              "        )\n",
              "      )\n",
              "    )\n",
              "    (pooler): BertPooler(\n",
              "      (dense): Linear(in_features=768, out_features=768, bias=True)\n",
              "      (activation): Tanh()\n",
              "    )\n",
              "  )\n",
              "  (qa_outputs): Linear(in_features=768, out_features=2, bias=True)\n",
              ")"
            ]
          },
          "metadata": {
            "tags": []
          },
          "execution_count": 31
        }
      ]
    },
    {
      "cell_type": "code",
      "metadata": {
        "id": "_t19YTyEu5V4",
        "colab": {
          "base_uri": "https://localhost:8080/"
        },
        "outputId": "1819dc11-725a-49e7-f0a9-f509bf5cf04d"
      },
      "source": [
        "param_optimizer = list(model.named_parameters())\n",
        "print(param_optimizer[-2])\n",
        "print(param_optimizer[-1])"
      ],
      "execution_count": null,
      "outputs": [
        {
          "output_type": "stream",
          "text": [
            "('qa_outputs.weight', Parameter containing:\n",
            "tensor([[ 0.0308,  0.0037,  0.0330,  ..., -0.0078, -0.0089, -0.0179],\n",
            "        [-0.0359, -0.0039, -0.0379,  ..., -0.0014,  0.0230,  0.0007]],\n",
            "       device='cuda:0', requires_grad=True))\n",
            "('qa_outputs.bias', Parameter containing:\n",
            "tensor([7.0734e-06, 1.5444e-05], device='cuda:0', requires_grad=True))\n"
          ],
          "name": "stdout"
        }
      ]
    },
    {
      "cell_type": "code",
      "metadata": {
        "id": "9alnEO5Uu7jm"
      },
      "source": [
        "learning_rate = 1e-4  ## choose between 1e3 to 1e5\n",
        "adam_epsilon= 1e-9## choose between 1e8 1e9\n",
        "no_decay = ['bias', 'LayerNorm.weight']\n",
        "optimizer_grouped_parameters = [\n",
        "    {'params': [p for n, p in model.named_parameters() if not any(nd in n for nd in no_decay)], 'weight_decay': 0.01},\n",
        "    {'params': [p for n, p in model.named_parameters() if any(nd in n for nd in no_decay)], 'weight_decay': 0.0}\n",
        "    ]\n",
        "optimizer = AdamW(optimizer_grouped_parameters, lr=learning_rate, eps=adam_epsilon)"
      ],
      "execution_count": null,
      "outputs": []
    },
    {
      "cell_type": "markdown",
      "metadata": {
        "id": "M95bdxLGIUT1"
      },
      "source": [
        "### Fine-tuning script\n",
        "\n",
        "We've chosen a model and we've got some data. Time to train!\n",
        "\n",
        "All the standard models that HF supports have been pre-trained, which means they've all been fed massive unsupervised training sets in order to learn basic language modeling. In order to perform well at specific tasks (like question answering), they must be trained further -- fine-tuned -- on specific datasets and tasks.\n",
        "\n",
        "\n",
        "HF helpfully provides a script that fine-tunes a Transformer model on one of the SQuAD datasets, called `run_squad.py`. You can grab the script [here](https://github.com/huggingface/transformers/blob/master/examples/question-answering/run_squad.py)"
      ]
    },
    {
      "cell_type": "code",
      "metadata": {
        "id": "XGwiPd3ju9A1",
        "colab": {
          "base_uri": "https://localhost:8080/",
          "height": 128
        },
        "outputId": "1595bb90-18cd-4dc2-b050-5a240b1eb622"
      },
      "source": [
        "num_train_epochs = 1 ## choose 1 to 3 \n",
        "\n",
        "print(\"***** Running training *****\")\n",
        "print(\"  Num examples = %d\" % len(dataset))\n",
        "print(\"  Num Epochs = %d\" % num_train_epochs)\n",
        "print(\"  Batch size = %d\" % batch_size)\n",
        "print(\"  Total optimization steps = %d\" % (len(train_dataloader)// num_train_epochs ))\n",
        "\n",
        "model.zero_grad()\n",
        "train_iterator = trange(num_train_epochs, desc=\"Epoch\")\n",
        "set_seed()\n",
        "\n",
        "for _ in train_iterator:\n",
        "    epoch_iterator = tqdm(train_dataloader, desc=\"Iteration\")\n",
        "    for step, batch in enumerate(epoch_iterator):\n",
        "      if step < int(global_step) + 1:\n",
        "        continue\n",
        "\n",
        "      model.train()\n",
        "      batch = tuple(t.to(device) for t in batch)\n",
        "\n",
        "      inputs = {'input_ids':       batch[0],\n",
        "                'attention_mask':  batch[1], \n",
        "                'token_type_ids':  batch[2],  \n",
        "                'start_positions': batch[3], \n",
        "                'end_positions':   batch[4]}\n",
        "\n",
        "      outputs = model(**inputs)\n",
        "\n",
        "      loss = outputs[0]\n",
        "      train_loss_set.append(loss)\n",
        "      loss.backward()\n",
        "      torch.nn.utils.clip_grad_norm_(model.parameters(), 1.0)\n",
        "\n",
        "      tr_loss += loss.item()\n",
        "      optimizer.step()\n",
        "      model.zero_grad()\n",
        "      global_step+ = 1\n",
        "    \n",
        "      if global_step %50 == 0: \n",
        "        print(\"Train loss: {}\".format(tr_loss/global_step))\n",
        "        output_dir = 'checkpoint-{}'.format(global_step)\n",
        "        if not os.path.exists(output_dir):\n",
        "            os.makedirs(output_dir)\n",
        "        model_to_save = model.module if hasattr(model, 'module') else model  # Take care of distributed/parallel training\n",
        "        model_to_save.save_pretrained(output_dir)\n",
        "        torch.save(torch.tensor(train_loss_set), os.path.join(output_dir, 'training_loss.pt'))\n",
        "        print(\"Saving model checkpoint to %s\" % output_dir)"
      ],
      "execution_count": null,
      "outputs": [
        {
          "output_type": "error",
          "ename": "SyntaxError",
          "evalue": "ignored",
          "traceback": [
            "\u001b[0;36m  File \u001b[0;32m\"<ipython-input-36-853393ef39ed>\"\u001b[0;36m, line \u001b[0;32m38\u001b[0m\n\u001b[0;31m    global_step+ = 1\u001b[0m\n\u001b[0m                 ^\u001b[0m\n\u001b[0;31mSyntaxError\u001b[0m\u001b[0;31m:\u001b[0m invalid syntax\n"
          ]
        }
      ]
    },
    {
      "cell_type": "code",
      "metadata": {
        "id": "WUfeq9kO1oYM"
      },
      "source": [
        "output_dir = 'checkpoint-final'\n",
        "if not os.path.exists(output_dir):\n",
        "    os.makedirs(output_dir)\n",
        "model_to_save = model.module if hasattr(model, 'module') else model\n",
        "model_to_save.save_pretrained(output_dir)"
      ],
      "execution_count": null,
      "outputs": []
    },
    {
      "cell_type": "code",
      "metadata": {
        "id": "PpoznGAgYcWE"
      },
      "source": [
        "train_loss_set_ckpt = torch.load('checkpoint-50/training_loss.pt')\n",
        "train_loss_set = to_list(train_loss_set_ckpt)"
      ],
      "execution_count": null,
      "outputs": []
    },
    {
      "cell_type": "code",
      "metadata": {
        "id": "-z2GxIeN1vqa"
      },
      "source": [
        "plt.figure(figsize=(15,8))\n",
        "plt.title(\"Training loss\")\n",
        "plt.xlabel(\"Batch\")\n",
        "plt.ylabel(\"Loss\")\n",
        "plt.plot(train_loss_set)\n",
        "plt.show()"
      ],
      "execution_count": null,
      "outputs": []
    },
    {
      "cell_type": "markdown",
      "metadata": {
        "id": "-b2hzsaq16H6"
      },
      "source": [
        "**Load test dataset**"
      ]
    },
    {
      "cell_type": "code",
      "metadata": {
        "id": "TglKsny312Oh"
      },
      "source": [
        "input_file = 'dev-v2.0.json'\n",
        "val_examples = read_squad_examples(input_file=input_file,\n",
        "                                is_training=False,\n",
        "                                version_2_with_negative=True)\n",
        "doc_stride = 128\n",
        "max_seq_length = 256\n",
        "max_query_length = 64\n",
        "cached_features_file = 'cache_validation'\n",
        "\n",
        "# Cache features for faster loading\n",
        "if not os.path.exists(cached_features_file):\n",
        "  features = convert_examples_to_features(examples=val_examples,\n",
        "                                        tokenizer=tokenizer,\n",
        "                                        max_seq_length=max_seq_length,\n",
        "                                        doc_stride=doc_stride,\n",
        "                                        max_query_length=max_query_length,\n",
        "                                        is_training=False)\n",
        "  torch.save(features, cached_features_file)\n",
        "else:\n",
        "  features = torch.load(cached_features_file)"
      ],
      "execution_count": null,
      "outputs": []
    },
    {
      "cell_type": "code",
      "metadata": {
        "id": "rLmoahbz1_Hx"
      },
      "source": [
        "# Convert to Tensors and build dataset\n",
        "# Convert to Tensors and build dataset\n",
        "all_input_ids = torch.tensor([f.input_ids for f in features], dtype=torch.long)\n",
        "all_input_mask = torch.tensor([f.input_mask for f in features], dtype=torch.long)\n",
        "all_segment_ids = torch.tensor([f.segment_ids for f in features], dtype=torch.long)\n",
        "all_cls_index = torch.tensor([f.cls_index for f in features], dtype=torch.long)\n",
        "all_p_mask = torch.tensor([f.p_mask for f in features], dtype=torch.float)\n",
        "\n",
        "all_example_index = torch.arange(all_input_ids.size(0), dtype=torch.long)\n",
        "dataset = TensorDataset(all_input_ids, all_input_mask, all_segment_ids,\n",
        "                        all_example_index, all_cls_index, all_p_mask)"
      ],
      "execution_count": null,
      "outputs": []
    },
    {
      "cell_type": "code",
      "metadata": {
        "id": "TMMV4KIh2OKt"
      },
      "source": [
        "validation_sampler = SequentialSampler(dataset)\n",
        "validation_dataloader = DataLoader(dataset, sampler=validation_sampler, batch_size=batch_size, drop_last=True)"
      ],
      "execution_count": null,
      "outputs": []
    },
    {
      "cell_type": "code",
      "metadata": {
        "id": "JLdGjs5G2V5O"
      },
      "source": [
        ""
      ],
      "execution_count": null,
      "outputs": []
    },
    {
      "cell_type": "markdown",
      "metadata": {
        "id": "LbrsNDUm2Url"
      },
      "source": [
        "**Evaluate test dataset**"
      ]
    },
    {
      "cell_type": "code",
      "metadata": {
        "id": "j3_CAQUf2asD"
      },
      "source": [
        "\n",
        "def evaluate(model, tokenizer):\n",
        "  print(\"***** Running evaluation *****\")\n",
        "  print(\"  Num examples = %d\" % len(dataset))\n",
        "  print(\"  Batch size = %d\" % batch_size)\n",
        "  all_results = []\n",
        "  predict_file = 'dev-v2.0.json'\n",
        "  for batch in tqdm(validation_dataloader, desc=\"Evaluating\", miniters=100, mininterval=5.0):\n",
        "    model.eval()\n",
        "    batch = tuple(t.to(device) for t in batch)\n",
        "    with torch.no_grad():\n",
        "      inputs = {'input_ids':      batch[0],\n",
        "                'attention_mask': batch[1],\n",
        "                'token_type_ids': batch[2]\n",
        "                }\n",
        "      example_indices = batch[3]\n",
        "      outputs = model(**inputs)\n",
        "\n",
        "    for i, example_index in enumerate(example_indices):\n",
        "      eval_feature = features[example_index.item()]\n",
        "      unique_id = int(eval_feature.unique_id)\n",
        "\n",
        "      result = RawResult(unique_id    = unique_id,\n",
        "                         start_logits = to_list(outputs[0][i]),\n",
        "                         end_logits   = to_list(outputs[1][i]))\n",
        "      all_results.append(result)\n",
        "\n",
        "  # Compute predictions\n",
        "  output_prediction_file = \"predictions.json\"\n",
        "  output_nbest_file = \"nbest_predictions.json\"\n",
        "  output_null_log_odds_file = \"null_odds.json\"\n",
        "  output_dir = \"predict_results\"\n",
        "\n",
        "  write_predictions(val_examples, features, all_results, 10,\n",
        "                  30, True, output_prediction_file,\n",
        "                  output_nbest_file, output_null_log_odds_file, False,\n",
        "                  True, 0.0)\n",
        "\n",
        "  # Evaluate with the official SQuAD script\n",
        "  evaluate_options = EVAL_OPTS(data_file=predict_file,\n",
        "                               pred_file=output_prediction_file,\n",
        "                               na_prob_file=output_null_log_odds_file,\n",
        "                               out_image_dir=None)\n",
        "  results = evaluate_on_squad(evaluate_options)\n",
        "  return results"
      ],
      "execution_count": null,
      "outputs": []
    },
    {
      "cell_type": "code",
      "metadata": {
        "id": "ROJlB2Np2iTo"
      },
      "source": [
        "results = evaluate(model, tokenizer)"
      ],
      "execution_count": null,
      "outputs": []
    },
    {
      "cell_type": "code",
      "metadata": {
        "id": "y4_tXFnX2mge"
      },
      "source": [
        "import json\n",
        "results_json = []\n",
        "for k in enumerate(results.keys()):\n",
        "  result_dict = {k[1] : results[k[1]]}\n",
        "  results_json.append(result_dict)\n",
        "print(results_json)\n",
        "with open('results.json', 'w') as f:\n",
        "  json.dump(results_json, f)"
      ],
      "execution_count": null,
      "outputs": []
    },
    {
      "cell_type": "markdown",
      "metadata": {
        "id": "BqL0gh6w-hjC"
      },
      "source": [
        "**Evaluate on any text**"
      ]
    },
    {
      "cell_type": "code",
      "metadata": {
        "id": "-M-L4ela-liv"
      },
      "source": [
        ""
      ],
      "execution_count": null,
      "outputs": []
    }
  ]
}